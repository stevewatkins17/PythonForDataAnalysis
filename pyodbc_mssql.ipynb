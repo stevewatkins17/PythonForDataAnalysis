{
 "cells": [
  {
   "cell_type": "code",
   "execution_count": 24,
   "metadata": {},
   "outputs": [
    {
     "data": {
      "text/plain": [
       "'C:\\\\Users\\\\stevewatkins\\\\AnacondaProjects'"
      ]
     },
     "execution_count": 24,
     "metadata": {},
     "output_type": "execute_result"
    }
   ],
   "source": [
    "import os\n",
    "os.getcwd()\n",
    "# os.chdir(\"/Users/stevewatkins/python3/demos/sqlite\") # relative path: scripts dir is under Users/stevewatkins"
   ]
  },
  {
   "cell_type": "code",
   "execution_count": 28,
   "metadata": {},
   "outputs": [],
   "source": [
    "import pyodbc\n",
    "import sqlite3\n",
    "import pandas as pd\n",
    "\n",
    "def run_query(query):\n",
    "    return pd.read_sql_query(query,cn)\n",
    "\n",
    "cn = pyodbc.connect(\n",
    "    r'DRIVER={ODBC Driver 13 for SQL Server};'\n",
    "    r'SERVER=PBDWH303;'\n",
    "    r'DATABASE=BI_EDW_STAGING;'\n",
    "    r'trusted_connection=Yes;'\n",
    "    r'APP=Steve''s Python app;'\n",
    "    )"
   ]
  },
  {
   "cell_type": "code",
   "execution_count": 31,
   "metadata": {},
   "outputs": [
    {
     "data": {
      "text/html": [
       "<div>\n",
       "<style scoped>\n",
       "    .dataframe tbody tr th:only-of-type {\n",
       "        vertical-align: middle;\n",
       "    }\n",
       "\n",
       "    .dataframe tbody tr th {\n",
       "        vertical-align: top;\n",
       "    }\n",
       "\n",
       "    .dataframe thead th {\n",
       "        text-align: right;\n",
       "    }\n",
       "</style>\n",
       "<table border=\"1\" class=\"dataframe\">\n",
       "  <thead>\n",
       "    <tr style=\"text-align: right;\">\n",
       "      <th></th>\n",
       "      <th>fa_id</th>\n",
       "      <th>fa_city</th>\n",
       "      <th>fa_state</th>\n",
       "      <th>fa_latitude</th>\n",
       "      <th>fa_longitude</th>\n",
       "    </tr>\n",
       "  </thead>\n",
       "  <tbody>\n",
       "    <tr>\n",
       "      <th>0</th>\n",
       "      <td>1523</td>\n",
       "      <td>CHARLOTTE</td>\n",
       "      <td>NC</td>\n",
       "      <td>35.231091</td>\n",
       "      <td>-80.838168</td>\n",
       "    </tr>\n",
       "    <tr>\n",
       "      <th>1</th>\n",
       "      <td>1524</td>\n",
       "      <td>CONCORD</td>\n",
       "      <td>NC</td>\n",
       "      <td>35.416790</td>\n",
       "      <td>-80.560146</td>\n",
       "    </tr>\n",
       "    <tr>\n",
       "      <th>2</th>\n",
       "      <td>1525</td>\n",
       "      <td>KANNAPOLIS</td>\n",
       "      <td>NC</td>\n",
       "      <td>35.477921</td>\n",
       "      <td>-80.632934</td>\n",
       "    </tr>\n",
       "    <tr>\n",
       "      <th>3</th>\n",
       "      <td>1526</td>\n",
       "      <td>CONCORD</td>\n",
       "      <td>NC</td>\n",
       "      <td>35.398748</td>\n",
       "      <td>-80.604482</td>\n",
       "    </tr>\n",
       "    <tr>\n",
       "      <th>4</th>\n",
       "      <td>1527</td>\n",
       "      <td>CONCORD</td>\n",
       "      <td>NC</td>\n",
       "      <td>35.449630</td>\n",
       "      <td>-80.547005</td>\n",
       "    </tr>\n",
       "    <tr>\n",
       "      <th>5</th>\n",
       "      <td>1528</td>\n",
       "      <td>CONCORD</td>\n",
       "      <td>NC</td>\n",
       "      <td>35.379256</td>\n",
       "      <td>-80.555250</td>\n",
       "    </tr>\n",
       "    <tr>\n",
       "      <th>6</th>\n",
       "      <td>1529</td>\n",
       "      <td>CONCORD</td>\n",
       "      <td>NC</td>\n",
       "      <td>35.424604</td>\n",
       "      <td>-80.548344</td>\n",
       "    </tr>\n",
       "    <tr>\n",
       "      <th>7</th>\n",
       "      <td>1530</td>\n",
       "      <td>KANNAPOLIS</td>\n",
       "      <td>NC</td>\n",
       "      <td>35.499654</td>\n",
       "      <td>-80.597462</td>\n",
       "    </tr>\n",
       "    <tr>\n",
       "      <th>8</th>\n",
       "      <td>1531</td>\n",
       "      <td>CONCORD</td>\n",
       "      <td>NC</td>\n",
       "      <td>35.431232</td>\n",
       "      <td>-80.578494</td>\n",
       "    </tr>\n",
       "    <tr>\n",
       "      <th>9</th>\n",
       "      <td>1532</td>\n",
       "      <td>CONCORD</td>\n",
       "      <td>NC</td>\n",
       "      <td>35.358214</td>\n",
       "      <td>-80.571644</td>\n",
       "    </tr>\n",
       "  </tbody>\n",
       "</table>\n",
       "</div>"
      ],
      "text/plain": [
       "   fa_id     fa_city fa_state  fa_latitude  fa_longitude\n",
       "0   1523   CHARLOTTE       NC    35.231091    -80.838168\n",
       "1   1524     CONCORD       NC    35.416790    -80.560146\n",
       "2   1525  KANNAPOLIS       NC    35.477921    -80.632934\n",
       "3   1526     CONCORD       NC    35.398748    -80.604482\n",
       "4   1527     CONCORD       NC    35.449630    -80.547005\n",
       "5   1528     CONCORD       NC    35.379256    -80.555250\n",
       "6   1529     CONCORD       NC    35.424604    -80.548344\n",
       "7   1530  KANNAPOLIS       NC    35.499654    -80.597462\n",
       "8   1531     CONCORD       NC    35.431232    -80.578494\n",
       "9   1532     CONCORD       NC    35.358214    -80.571644"
      ]
     },
     "execution_count": 31,
     "metadata": {},
     "output_type": "execute_result"
    }
   ],
   "source": [
    "query = \"\"\"\n",
    "select top 10 fa_id ,fa_city ,fa_state ,fa_latitude ,fa_longitude from [dbo].[Facilities];\n",
    "\"\"\"\n",
    "run_query(query)"
   ]
  },
  {
   "cell_type": "code",
   "execution_count": null,
   "metadata": {},
   "outputs": [],
   "source": []
  }
 ],
 "metadata": {
  "kernelspec": {
   "display_name": "Python 3",
   "language": "python",
   "name": "python3"
  },
  "language_info": {
   "codemirror_mode": {
    "name": "ipython",
    "version": 3
   },
   "file_extension": ".py",
   "mimetype": "text/x-python",
   "name": "python",
   "nbconvert_exporter": "python",
   "pygments_lexer": "ipython3",
   "version": "3.6.5"
  }
 },
 "nbformat": 4,
 "nbformat_minor": 2
}
