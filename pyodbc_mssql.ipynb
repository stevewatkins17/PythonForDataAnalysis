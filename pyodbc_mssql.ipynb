{
 "cells": [
  {
   "cell_type": "code",
   "execution_count": null,
   "metadata": {},
   "outputs": [],
   "source": [
    "import os\n",
    "import pyodbc\n",
    "import sqlite3\n",
    "import pandas as pd\n",
    "import myconfig as mc\n",
    "\n",
    "# edit \"myconfig.py\" to alter DB & Instance conn. or change query\n",
    "\n",
    "def run_query(query):\n",
    "    return pd.read_sql_query(query,cn)\n",
    "\n",
    "cn = pyodbc.connect(\n",
    "    r'DRIVER={ODBC Driver 13 for SQL Server};'\n",
    "    fr'SERVER={mc.SourceInstance};'\n",
    "    fr'DATABASE={mc.SourceDB};'\n",
    "    r'trusted_connection=Yes;'\n",
    "    r'APP=Python app;'\n",
    "    )\n",
    "os.getcwd()"
   ]
  },
  {
   "cell_type": "code",
   "execution_count": null,
   "metadata": {},
   "outputs": [],
   "source": [
    "df1 = run_query(mc.Query_pt)\n",
    "\n",
    "df1"
   ]
  }
 ],
 "metadata": {
  "kernelspec": {
   "display_name": "Python 3",
   "language": "python",
   "name": "python3"
  },
  "language_info": {
   "codemirror_mode": {
    "name": "ipython",
    "version": 3
   },
   "file_extension": ".py",
   "mimetype": "text/x-python",
   "name": "python",
   "nbconvert_exporter": "python",
   "pygments_lexer": "ipython3",
   "version": "3.7.3"
  }
 },
 "nbformat": 4,
 "nbformat_minor": 2
}
