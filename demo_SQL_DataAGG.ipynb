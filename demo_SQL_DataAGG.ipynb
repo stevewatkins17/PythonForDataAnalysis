{
 "cells": [
  {
   "cell_type": "code",
   "execution_count": null,
   "metadata": {},
   "outputs": [],
   "source": [
    "# this demo requires existence of table \"stage_expenses_cleaned\" created in \"demo_SQL_DataCleanup\"\n",
    "import pandas as pd\n",
    "import sqlite3\n",
    "import os\n",
    "import matplotlib as mpl\n",
    "from src import queries as Q\n",
    "\n",
    "# create the sqlite DB\n",
    "db = sqlite3.connect(\":memory:\")\n",
    "\n",
    "# read CSV into dataframe\n",
    "df1 = pd.read_csv(\"Data/stage_expenses_cleaned.csv\", header=\"infer\")\n",
    "\n",
    "# convert the pandas dataframe to a sqlite table\n",
    "df1.to_sql(\"stage_expenses_cleaned\", db, if_exists=\"replace\")\n",
    "\n",
    "def run_query(query):\n",
    "    return pd.read_sql_query(query,db)\n",
    "\n",
    "os.getcwd()"
   ]
  },
  {
   "cell_type": "code",
   "execution_count": null,
   "metadata": {},
   "outputs": [],
   "source": [
    "# this handy pandas method displays a dataframe's aggregate metadata\n",
    "# which also conveniently shows you basic aggregations (count, mean, min ... )\n",
    "df1.describe()"
   ]
  },
  {
   "cell_type": "code",
   "execution_count": null,
   "metadata": {},
   "outputs": [],
   "source": [
    "# query to show us what tables exist in DB\n",
    "run_query(Q.show_tables)"
   ]
  },
  {
   "cell_type": "code",
   "execution_count": null,
   "metadata": {},
   "outputs": [],
   "source": [
    "# get information about my staging table \n",
    "query_table_help = Q.query_table_help(\"stage_expenses_cleaned\")\n",
    "run_query(query_table_help)"
   ]
  },
  {
   "cell_type": "code",
   "execution_count": null,
   "metadata": {},
   "outputs": [],
   "source": [
    "get_data = Q.select_top10(\"stage_expenses_cleaned\")\n",
    "run_query(get_data)"
   ]
  },
  {
   "cell_type": "code",
   "execution_count": null,
   "metadata": {},
   "outputs": [],
   "source": [
    "# create key metrics by US state\n",
    "query_state_KM = Q.query_state_KM\n",
    "\n",
    "run_query(query_state_KM)\n"
   ]
  },
  {
   "cell_type": "code",
   "execution_count": null,
   "metadata": {},
   "outputs": [],
   "source": [
    "# create key metrics by Category\n",
    "\n",
    "run_query(Q.query_category_KM)"
   ]
  },
  {
   "cell_type": "code",
   "execution_count": null,
   "metadata": {},
   "outputs": [],
   "source": [
    "# create state count for map\n",
    "\n",
    "\n",
    "df2 = run_query(Q.query_st_map)\n",
    "\n",
    "# we can also re-sort the dataframe\n",
    "df2 = df2.sort_values(\"TransCount\", ascending = False).reset_index(drop=True)\n",
    "\n",
    "\n",
    "df2"
   ]
  },
  {
   "cell_type": "code",
   "execution_count": null,
   "metadata": {},
   "outputs": [],
   "source": [
    "# Plotting by Shane -- requires manual install of plotly library\n",
    "#from plotly.express import d3_plot\n",
    "#df.rename(columns={'Vendor_State': 'Vendor State'}, inplace=True)\n",
    "#d3_bar(df, x='Vendor State', y='Trans Count', color='Vendor State', title='Stage Expenses Cleaned')"
   ]
  },
  {
   "cell_type": "code",
   "execution_count": null,
   "metadata": {},
   "outputs": [],
   "source": [
    "# we add the %matplotlib inline magic command to see our plot inside the jupyter notebook. \n",
    "# If you build the plot in a .py file, then remove the %matplotlib inline command as it will raise an error\n",
    "%matplotlib inline\n",
    "\n",
    "my_plot = df2.plot(x=\"VendorState\", y=\"TransCount\" ,kind=\"bar\",legend=None,title=\"Transaction Count by State\" ,color = \"green\")\n",
    "my_plot.set_xlabel(\"States\")\n",
    "my_plot.set_ylabel(\"Count\")\n",
    "\n",
    "mpl.pyplot.show(my_plot)\n"
   ]
  },
  {
   "cell_type": "code",
   "execution_count": null,
   "metadata": {},
   "outputs": [],
   "source": []
  }
 ],
 "metadata": {
  "kernelspec": {
   "name": "python3",
   "display_name": "Python 3.7.3 64-bit",
   "metadata": {
    "interpreter": {
     "hash": "31f2aee4e71d21fbe5cf8b01ff0e069b9275f58929596ceb00d14d90e3e16cd6"
    }
   }
  },
  "language_info": {
   "codemirror_mode": {
    "name": "ipython",
    "version": 3
   },
   "file_extension": ".py",
   "mimetype": "text/x-python",
   "name": "python",
   "nbconvert_exporter": "python",
   "pygments_lexer": "ipython3",
   "version": "3.7.3"
  }
 },
 "nbformat": 4,
 "nbformat_minor": 2
}