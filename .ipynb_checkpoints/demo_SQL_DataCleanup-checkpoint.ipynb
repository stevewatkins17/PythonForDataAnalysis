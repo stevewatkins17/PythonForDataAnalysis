{
 "cells": [
  {
   "cell_type": "code",
   "execution_count": null,
   "metadata": {},
   "outputs": [],
   "source": [
    "import pandas as pd\n",
    "import sqlite3\n",
    "import os\n",
    "\n",
    "# create the sqlite DB\n",
    "db = sqlite3.connect(\"MyDemo.db\")\n",
    "\n",
    "# read CSV into dataframe\n",
    "df1 = pd.read_csv(\"demo_AmexTransactions.csv\", header=None)\n",
    "\n",
    "# convert the pandas dataframe to a sqlite table\n",
    "df1.to_sql(\"stage_expenses_import\", db, if_exists=\"replace\")\n",
    "\n",
    "def run_query(query):\n",
    "    return pd.read_sql_query(query,db)\n",
    "\n",
    "os.getcwd()"
   ]
  },
  {
   "cell_type": "code",
   "execution_count": null,
   "metadata": {},
   "outputs": [],
   "source": [
    "# view dataframe\n",
    "df1"
   ]
  },
  {
   "cell_type": "code",
   "execution_count": null,
   "metadata": {},
   "outputs": [],
   "source": [
    "query = \"\"\"\n",
    "SELECT * \n",
    "FROM sqlite_master\n",
    "ORDER BY name;\n",
    "\"\"\"\n",
    "run_query(query)"
   ]
  },
  {
   "cell_type": "code",
   "execution_count": null,
   "metadata": {},
   "outputs": [],
   "source": [
    "query = \"\"\"\n",
    "SELECT * \n",
    "FROM stage_expenses_import;\n",
    "\"\"\"\n",
    "run_query(query)"
   ]
  },
  {
   "cell_type": "code",
   "execution_count": null,
   "metadata": {},
   "outputs": [],
   "source": [
    "# get information about my staging table \n",
    "query_table_help = \"\"\"\n",
    "SELECT name , *FROM PRAGMA_TABLE_INFO('stage_expenses_import');\n",
    "\"\"\"\n",
    "run_query(query_table_help)"
   ]
  },
  {
   "cell_type": "code",
   "execution_count": null,
   "metadata": {},
   "outputs": [],
   "source": [
    "# example query showing date transform evolution & several other transforms \n",
    "\n",
    "query_format_columns = \"\"\"\n",
    "SELECT \n",
    "  \"0\" as \"raw value\"\n",
    " ,(trim(\"0\")) as \"TrimSpaces\"\n",
    " ,substr((trim(\"0\")) ,0,11) as \"unformatted date substr\"\n",
    " ,substr((trim(\"0\")) ,7,4)||'-'||substr((trim(\"0\")) ,1,2)||'-'||substr((trim(\"0\")) ,4,2) as \" formatted as ISO8601 str\"\n",
    " ,datetime(substr((trim(\"0\")) ,7,4)||'-'||substr((trim(\"0\")) ,1,2)||'-'||substr((trim(\"0\")) ,4,2)) as \"ISO8601 as datetime\"\n",
    " ,length(trim(\"2\"))-1 as \"column length-1\" /* we get start position for the state substring below */\n",
    " ,substr(\"2\" ,(length(trim(\"2\"))-1) ,2) as \"State\" /* we dynamically substring the state from the last 2 characters */\n",
    " ,case (substr(\"2\" ,(length(trim(\"2\"))-1) ,2)) when \"RK\" then \"NY\" else (substr(\"2\" ,(length(trim(\"2\"))-1) ,2)) end as \"Bad DEV Hard-Coded State\"\n",
    " ,\"6\" as \"Category\"\n",
    " ,\"8\" as \"Amount as real/float\"\n",
    " ,\"11\" as \"Vendor\"\n",
    " ,cast(substr(\"13\" ,1,5) as text) as \"zc as txt\"\n",
    " \n",
    "from stage_expenses_import;\n",
    "\"\"\"\n",
    "\n",
    "run_query(query_format_columns)\n",
    "#run_query(query_distinct_card)"
   ]
  },
  {
   "cell_type": "code",
   "execution_count": null,
   "metadata": {},
   "outputs": [],
   "source": [
    "# the query that populates stage_expenses_cleaned\n",
    "\n",
    "query_transform_into_new_table = \"\"\"\n",
    "select \n",
    "  substr((trim(\"0\")) ,7,4)||'-'||substr((trim(\"0\")) ,1,2)||'-'||substr((trim(\"0\")) ,4,2) as \"Tran_Date\"\n",
    " ,\"11\" as \"Vendor_Name\"\n",
    " ,case (substr(\"2\" ,(length(trim(\"2\"))-1) ,2)) when \"RK\" then \"NY\" else (substr(\"2\" ,(length(trim(\"2\"))-1) ,2)) end as \"Vendor_State\"\n",
    " ,cast(substr(\"13\" ,1,5) as text) as \"Vendor_Zip\"\n",
    " ,\"6\" as \"Vendor_Category Raw\"\n",
    " ,case \"11\" when \"AMAZON WEB SERVICES\" then \"Business Services\" else \"6\" end as \"Vendor_Category corrected\"\n",
    " ,\"8\" as \"Vendor_Amount\"\n",
    "from stage_expenses_import limit 5;\n",
    "\"\"\"\n",
    "\n",
    "query_distinct_card = \"\"\"\n",
    "select \n",
    "  distinct \"6\" \n",
    " \n",
    "from stage_expenses_import;\n",
    "\"\"\"\n",
    "\n",
    "run_query(query_transform_into_new_table)\n",
    "#run_query(query_distinct_card)\n",
    "\n"
   ]
  },
  {
   "cell_type": "code",
   "execution_count": null,
   "metadata": {},
   "outputs": [],
   "source": [
    "# drop old table if exists \n",
    "c = db.cursor()\n",
    "\n",
    "Drop_TableName = \"stage_expenses_cleaned\"\n",
    "\n",
    "Drop_SQL = f\"\"\"\n",
    "drop table if exists {Drop_TableName};\n",
    "\"\"\"\n",
    "\n",
    "c.execute(Drop_SQL)\n",
    "\n",
    "c.close()\n",
    "\n",
    "query_stage_expenses_cleaned = \"\"\"\n",
    "select \n",
    "*\n",
    "from stage_expenses_cleaned;\n",
    "\"\"\"\n",
    "\n",
    "#run_query(query_stage_expenses_cleaned)\n",
    "#run_query(query_distinct_card)"
   ]
  },
  {
   "cell_type": "code",
   "execution_count": null,
   "metadata": {},
   "outputs": [],
   "source": [
    "# create new table if not exists \n",
    "c = db.cursor()\n",
    "\n",
    "Create_TableName = \"stage_expenses_cleaned\"\n",
    "\n",
    "Create_SQL = f\"\"\"\n",
    "create table if not exists {Create_TableName} as\n",
    "select \n",
    "  substr((trim(\"0\")) ,7,4)||'-'||substr((trim(\"0\")) ,1,2)||'-'||substr((trim(\"0\")) ,4,2) as \"Tran_Date\"\n",
    " ,\"11\" as \"Vendor_Name\"\n",
    " ,cast((case (substr(\"2\" ,(length(trim(\"2\"))-1) ,2)) when \"RK\" then \"NY\" else (substr(\"2\" ,(length(trim(\"2\"))-1) ,2)) end) as TEXT) as \"Vendor_State\"\n",
    " ,cast(substr(\"13\" ,1,5) as text) as \"Vendor_Zip\"\n",
    " ,case \"11\" when \"AMAZON WEB SERVICES\" then \"Business Services\" else \"6\" end as \"Vendor_Category\"\n",
    " ,\"8\" as \"Vendor_Amount\"\n",
    "from stage_expenses_import;\n",
    "\"\"\"\n",
    "\n",
    "c.execute(Create_SQL)\n",
    "\n",
    "c.close()\n",
    "\n",
    "stage_expenses_cleaned = \"\"\"\n",
    "select \n",
    "*\n",
    "from stage_expenses_cleaned\n",
    "order by Vendor_Amount desc;\n",
    "\"\"\"\n",
    "\n",
    "run_query(stage_expenses_cleaned)\n",
    "#run_query(query_distinct_card)"
   ]
  },
  {
   "cell_type": "code",
   "execution_count": null,
   "metadata": {},
   "outputs": [],
   "source": [
    "# df1.info() \n",
    "\n",
    "# converting to string data type \n",
    "df1[0] = df1[0].astype(str)     \n",
    "    \n",
    "## slicing to extract date str\n",
    "#df1[0] = df1[0].str.slice(0, 10, 1)  \n",
    "\n",
    "#df1[0] = pd.to_datetime(df1[0])  \n",
    "\n",
    "df1[0] = pd.to_datetime(df1[0].str.slice(0, 10, 1))\n",
    "\n",
    "# convert a positive INT to negative & vice versa \n",
    "df1[8] = df1[8]*-1\n",
    "\n",
    "# display \n",
    "#df1[0].head(10) \n",
    "df1[0].head(2) \n",
    "df1[8].head(2) \n",
    "\n"
   ]
  }
 ],
 "metadata": {
  "kernelspec": {
   "display_name": "Python 3",
   "language": "python",
   "name": "python3"
  },
  "language_info": {
   "codemirror_mode": {
    "name": "ipython",
    "version": 3
   },
   "file_extension": ".py",
   "mimetype": "text/x-python",
   "name": "python",
   "nbconvert_exporter": "python",
   "pygments_lexer": "ipython3",
   "version": "3.7.4"
  }
 },
 "nbformat": 4,
 "nbformat_minor": 2
}
