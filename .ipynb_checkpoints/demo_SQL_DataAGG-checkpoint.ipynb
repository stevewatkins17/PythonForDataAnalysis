{
 "cells": [
  {
   "cell_type": "code",
   "execution_count": null,
   "metadata": {},
   "outputs": [],
   "source": [
    "# this demo requires existence of table \"stage_expenses_cleaned\" created in \"demo_SQL_DataCleanup\"\n",
    "import pandas as pd\n",
    "import sqlite3\n",
    "import os\n",
    "\n",
    "# create the sqlite DB\n",
    "db = sqlite3.connect(\"MyDemo.db\")\n",
    "\n",
    "def run_query(query):\n",
    "    return pd.read_sql_query(query,db)\n",
    "\n",
    "os.getcwd()"
   ]
  },
  {
   "cell_type": "code",
   "execution_count": null,
   "metadata": {},
   "outputs": [],
   "source": [
    "# query to show us what tables exist in DB\n",
    "query = \"\"\"\n",
    "SELECT * \n",
    "FROM sqlite_master\n",
    "ORDER BY name;\n",
    "\"\"\"\n",
    "run_query(query)"
   ]
  },
  {
   "cell_type": "code",
   "execution_count": null,
   "metadata": {},
   "outputs": [],
   "source": [
    "# get information about my staging table \n",
    "query_table_help = \"\"\"\n",
    "select * from PRAGMA_TABLE_INFO('stage_expenses_cleaned');\n",
    "\"\"\"\n",
    "run_query(query_table_help)"
   ]
  },
  {
   "cell_type": "code",
   "execution_count": null,
   "metadata": {},
   "outputs": [],
   "source": [
    "query = \"\"\"\n",
    "SELECT * \n",
    "FROM stage_expenses_cleaned;\n",
    "\"\"\"\n",
    "run_query(query)"
   ]
  },
  {
   "cell_type": "code",
   "execution_count": null,
   "metadata": {},
   "outputs": [],
   "source": [
    "# create key metrics by US state\n",
    "query_state_KM = \"\"\"\n",
    "select \n",
    " Vendor_State\n",
    ",sum(Vendor_Amount) as \"Sum Amount\"\n",
    ",avg(Vendor_Amount) as \"Avg Amount\"\n",
    ",count(*) as \"Trans Count\"\n",
    "from stage_expenses_cleaned\n",
    "group by Vendor_State\n",
    "\n",
    "union all\n",
    "\n",
    "select \n",
    " '(Total)'\n",
    ",sum(Vendor_Amount) as \"Sum Amount\"\n",
    ",avg(Vendor_Amount) as \"Avg Amount\"\n",
    ",count(*) as \"Trans Count\"\n",
    "from stage_expenses_cleaned\n",
    "\n",
    "order by \"Sum Amount\" desc;\n",
    "\"\"\"\n",
    "\n",
    "run_query(query_state_KM)\n"
   ]
  },
  {
   "cell_type": "code",
   "execution_count": null,
   "metadata": {},
   "outputs": [],
   "source": [
    "# create key metrics by Category\n",
    "query_category_KM = \"\"\"\n",
    "select \n",
    " Vendor_Category\n",
    ",sum(Vendor_Amount) as \"Sum Amount\"\n",
    ",avg(Vendor_Amount) as \"Avg Amount\"\n",
    ",count(*) as \"Trans Count\"\n",
    "from stage_expenses_cleaned\n",
    "group by Vendor_Category\n",
    "\n",
    "union all\n",
    "\n",
    "select \n",
    " '(Total)'\n",
    ",sum(Vendor_Amount) \n",
    ",avg(Vendor_Amount) \n",
    ",count(*) \n",
    "from stage_expenses_cleaned\n",
    "\n",
    "order by \"Sum Amount\" desc;\n",
    "\"\"\"\n",
    "\n",
    "run_query(query_category_KM)"
   ]
  },
  {
   "cell_type": "code",
   "execution_count": null,
   "metadata": {},
   "outputs": [],
   "source": [
    "# create state count for map\n",
    "query_st_map = \"\"\"\n",
    "select \n",
    " Vendor_State\n",
    ",count(*) as \"Trans Count\"\n",
    "from stage_expenses_cleaned\n",
    "group by Vendor_State\n",
    "order by \"Vendor_State\" asc;\n",
    "\"\"\"\n",
    "\n",
    "run_query(query_st_map)"
   ]
  },
  {
   "cell_type": "code",
   "execution_count": null,
   "metadata": {},
   "outputs": [],
   "source": []
  }
 ],
 "metadata": {
  "kernelspec": {
   "display_name": "Python 3",
   "language": "python",
   "name": "python3"
  },
  "language_info": {
   "codemirror_mode": {
    "name": "ipython",
    "version": 3
   },
   "file_extension": ".py",
   "mimetype": "text/x-python",
   "name": "python",
   "nbconvert_exporter": "python",
   "pygments_lexer": "ipython3",
   "version": "3.7.3"
  }
 },
 "nbformat": 4,
 "nbformat_minor": 2
}
