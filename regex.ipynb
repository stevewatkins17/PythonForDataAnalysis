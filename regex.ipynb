{
 "cells": [
  {
   "cell_type": "code",
   "execution_count": 11,
   "metadata": {},
   "outputs": [
    {
     "name": "stdout",
     "output_type": "stream",
     "text": [
      "create function dbo.myfunction \n",
      "\twith\t\tschemabinding\n",
      "as\n",
      "begin\n",
      "\tselect 1 from dbo.table;\n",
      "end\n",
      "\n"
     ]
    }
   ],
   "source": [
    "import re\n",
    "\n",
    "find_this = \"with schemabinding\"\n",
    "replace_with = \"/*__with schemabinding__*/\"\n",
    "target = \"create function dbo.myfunction \\n\\twith\\t\\tschemabinding\\nas\\nbegin\\n\\tselect 1 from dbo.table;\\nend\\n\"\n",
    "\n",
    "print(target)"
   ]
  }
 ],
 "metadata": {
  "interpreter": {
   "hash": "d4d1e4263499bec80672ea0156c357c1ee493ec2b1c70f0acce89fc37c4a6abe"
  },
  "kernelspec": {
   "display_name": "Python 3.9.7 ('base')",
   "language": "python",
   "name": "python3"
  },
  "language_info": {
   "codemirror_mode": {
    "name": "ipython",
    "version": 3
   },
   "file_extension": ".py",
   "mimetype": "text/x-python",
   "name": "python",
   "nbconvert_exporter": "python",
   "pygments_lexer": "ipython3",
   "version": "3.9.7"
  },
  "orig_nbformat": 4
 },
 "nbformat": 4,
 "nbformat_minor": 2
}
