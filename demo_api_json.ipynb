{
 "cells": [
  {
   "cell_type": "code",
   "execution_count": null,
   "metadata": {},
   "outputs": [],
   "source": [
    "import numpy as np\n",
    "import pandas as pd\n",
    "import requests\n",
    "import json\n",
    "#from pandas.io.json import json_normalize"
   ]
  },
  {
   "cell_type": "code",
   "execution_count": null,
   "metadata": {},
   "outputs": [],
   "source": [
    "API_KEY = \"3913f39f333c81570744b620ba68c3e6\"\n",
    "latitude = \"38.178164\"\n",
    "longitude = \"-85.793976\"\n",
    "YYYYMMDD = \"1963-02-17\"\n",
    "TimeOffset = \"11:00:00-0400\"    \n",
    "url = f\"https://api.darksky.net/forecast/{API_KEY}/{latitude},{longitude},{YYYYMMDD}T{TimeOffset}?exclude=currently,flags\"\n",
    "\n",
    "#url = \"https://api.darksky.net/forecast/3913f39f333c81570744b620ba68c3e6/38.178164,-85.793976,1978-02-17T11:00:00-0400?exclude=currently,flags\"\n",
    "JSONContent = requests.get(url).json()\n",
    "content = json.dumps(JSONContent, indent = 4, sort_keys=True)\n",
    "#json_normalize(content)\n"
   ]
  },
  {
   "cell_type": "code",
   "execution_count": 38,
   "metadata": {},
   "outputs": [
    {
     "output_type": "stream",
     "name": "stdout",
     "text": [
      "<class 'str'>\n{\n    \"daily\": {\n        \"data\": [\n            {\n                \"apparentTemperatureHigh\": 50.03,\n                \"apparentTemperatureHighTime\": -216791820,\n                \"apparentTemperatureLow\": 20.7,\n                \"apparentTemperatureLowTime\": -216742980,\n                \"apparentTemperatureMax\": 50.03,\n                \"apparentTemperatureMaxTime\": -216791820,\n                \"apparentTemperatureMin\": 12.29,\n                \"apparentTemperatureMinTime\": -216820980,\n                \"cloudCover\": 0.47,\n                \"dewPoint\": 13.84,\n                \"humidity\": 0.49,\n                \"icon\": \"partly-cloudy-day\",\n                \"moonPhase\": 0.79,\n                \"precipIntensity\": 0,\n                \"precipIntensityMax\": 0,\n                \"precipProbability\": 0,\n                \"pressure\": 1026.3,\n                \"summary\": \"Partly cloudy throughout the day.\",\n                \"sunriseTime\": -216818820,\n                \"sunsetTime\": -216779760,\n                \"temperatureHigh\": 50.57,\n                \"temperatureHighTime\": -216791580,\n                \"temperatureLow\": 24.49,\n                \"temperatureLowTime\": -216740460,\n                \"temperatureMax\": 50.57,\n                \"temperatureMaxTime\": -216791580,\n                \"temperatureMin\": 19.63,\n                \"temperatureMinTime\": -216820260,\n                \"time\": -216846000,\n                \"uvIndex\": 4,\n                \"uvIndexTime\": -216798540,\n                \"visibility\": 9.93,\n                \"windBearing\": 177,\n                \"windSpeed\": 6.07\n            }\n        ]\n    },\n    \"hourly\": {\n        \"data\": [\n            {\n                \"apparentTemperature\": 14.22,\n                \"cloudCover\": 0.25,\n                \"dewPoint\": 11.99,\n                \"humidity\": 0.62,\n                \"icon\": \"clear-night\",\n                \"precipIntensity\": 0,\n                \"precipProbability\": 0,\n                \"pressure\": 1028.7,\n                \"summary\": \"Clear\",\n                \"temperature\": 23.2,\n                \"time\": -216846000,\n                \"uvIndex\": 0,\n                \"visibility\": 9.93,\n                \"windBearing\": 158,\n                \"windSpeed\": 7.86\n            },\n            {\n                \"apparentTemperature\": 13.6,\n                \"cloudCover\": 0,\n                \"dewPoint\": 10.96,\n                \"humidity\": 0.64,\n                \"icon\": \"clear-night\",\n                \"precipIntensity\": 0,\n                \"precipProbability\": 0,\n                \"pressure\": 1028.1,\n                \"summary\": \"Clear\",\n                \"temperature\": 21.18,\n                \"time\": -216842400,\n                \"uvIndex\": 0,\n                \"visibility\": 9.93,\n                \"windBearing\": 135,\n                \"windSpeed\": 5.74\n            },\n            {\n                \"apparentTemperature\": 14.74,\n                \"cloudCover\": 0,\n                \"dewPoint\": 12.01,\n                \"humidity\": 0.67,\n                \"icon\": \"clear-night\",\n                \"precipIntensity\": 0,\n                \"precipProbability\": 0,\n                \"pressure\": 1027.6,\n                \"summary\": \"Clear\",\n                \"temperature\": 21.16,\n                \"time\": -216838800,\n                \"uvIndex\": 0,\n                \"visibility\": 9.93,\n                \"windBearing\": 134,\n                \"windSpeed\": 4.66\n            },\n            {\n                \"apparentTemperature\": 14.73,\n                \"cloudCover\": 0,\n                \"dewPoint\": 12.01,\n                \"humidity\": 0.65,\n                \"icon\": \"clear-night\",\n                \"precipIntensity\": 0,\n                \"precipProbability\": 0,\n                \"pressure\": 1027.5,\n                \"summary\": \"Clear\",\n                \"temperature\": 22.09,\n                \"time\": -216835200,\n                \"uvIndex\": 0,\n                \"visibility\": 9.93,\n                \"windBearing\": 158,\n                \"windSpeed\": 5.69\n            },\n            {\n                \"apparentTemperature\": 14.8,\n                \"cloudCover\": 0.61,\n                \"dewPoint\": 12.91,\n                \"humidity\": 0.7,\n                \"icon\": \"partly-cloudy-night\",\n                \"precipIntensity\": 0,\n                \"precipProbability\": 0,\n                \"pressure\": 1027.1,\n                \"summary\": \"Mostly Cloudy\",\n                \"temperature\": 21.14,\n                \"time\": -216831600,\n                \"uvIndex\": 0,\n                \"visibility\": 9.93,\n                \"windBearing\": 113,\n                \"windSpeed\": 4.58\n            },\n            {\n                \"apparentTemperature\": 17.65,\n                \"cloudCover\": 0.73,\n                \"dewPoint\": 12.85,\n                \"humidity\": 0.67,\n                \"icon\": \"partly-cloudy-night\",\n                \"precipIntensity\": 0,\n                \"precipProbability\": 0,\n                \"pressure\": 1027.3,\n                \"summary\": \"Mostly Cloudy\",\n                \"temperature\": 22.09,\n                \"time\": -216828000,\n                \"uvIndex\": 0,\n                \"visibility\": 9.93,\n                \"windBearing\": 113,\n                \"windSpeed\": 3.28\n            },\n            {\n                \"apparentTemperature\": 17.55,\n                \"cloudCover\": 0.25,\n                \"dewPoint\": 12.85,\n                \"humidity\": 0.67,\n                \"icon\": \"clear-night\",\n                \"precipIntensity\": 0,\n                \"precipProbability\": 0,\n                \"pressure\": 1027.3,\n                \"summary\": \"Clear\",\n                \"temperature\": 22.07,\n                \"time\": -216824400,\n                \"uvIndex\": 0,\n                \"visibility\": 9.93,\n                \"windBearing\": 136,\n                \"windSpeed\": 3.33\n            },\n            {\n                \"apparentTemperature\": 12.35,\n                \"cloudCover\": 0.74,\n                \"dewPoint\": 13.98,\n                \"humidity\": 0.77,\n                \"icon\": \"partly-cloudy-night\",\n                \"precipIntensity\": 0,\n                \"precipProbability\": 0,\n                \"pressure\": 1027.6,\n                \"summary\": \"Mostly Cloudy\",\n                \"temperature\": 20.15,\n                \"time\": -216820800,\n                \"uvIndex\": 0,\n                \"visibility\": 9.93,\n                \"windBearing\": 136,\n                \"windSpeed\": 5.77\n            },\n            {\n                \"apparentTemperature\": 21.18,\n                \"cloudCover\": 0.74,\n                \"dewPoint\": 15.95,\n                \"humidity\": 0.8,\n                \"icon\": \"partly-cloudy-day\",\n                \"precipIntensity\": 0,\n                \"precipProbability\": 0,\n                \"pressure\": 1028.5,\n                \"summary\": \"Mostly Cloudy\",\n                \"temperature\": 21.18,\n                \"time\": -216817200,\n                \"uvIndex\": 0,\n                \"visibility\": 9.93,\n                \"windBearing\": 250,\n                \"windSpeed\": 0.05\n            },\n            {\n                \"apparentTemperature\": 19.29,\n                \"cloudCover\": 0.98,\n                \"dewPoint\": 17.06,\n                \"humidity\": 0.71,\n                \"icon\": \"cloudy\",\n                \"precipIntensity\": 0,\n                \"precipProbability\": 0,\n                \"pressure\": 1028.6,\n                \"summary\": \"Overcast\",\n                \"temperature\": 25.09,\n                \"time\": -216813600,\n                \"uvIndex\": 0,\n                \"visibility\": 9.93,\n                \"windBearing\": 159,\n                \"windSpeed\": 4.69\n            },\n            {\n                \"apparentTemperature\": 24.07,\n                \"cloudCover\": 1,\n                \"dewPoint\": 17.89,\n                \"humidity\": 0.6,\n                \"icon\": \"cloudy\",\n                \"precipIntensity\": 0,\n                \"precipProbability\": 0,\n                \"pressure\": 1028.6,\n                \"summary\": \"Overcast\",\n                \"temperature\": 30.12,\n                \"time\": -216810000,\n                \"uvIndex\": 1,\n                \"visibility\": 9.93,\n                \"windBearing\": 159,\n                \"windSpeed\": 5.9\n            },\n            {\n                \"apparentTemperature\": 33.49,\n                \"cloudCover\": 1,\n                \"dewPoint\": 15.97,\n                \"humidity\": 0.4,\n                \"icon\": \"cloudy\",\n                \"precipIntensity\": 0,\n                \"precipProbability\": 0,\n                \"pressure\": 1028.5,\n                \"summary\": \"Overcast\",\n                \"temperature\": 37.98,\n                \"time\": -216806400,\n                \"uvIndex\": 2,\n                \"visibility\": 9.93,\n                \"windBearing\": 181,\n                \"windSpeed\": 5.8\n            },\n            {\n                \"apparentTemperature\": 37.17,\n                \"cloudCover\": 0.88,\n                \"dewPoint\": 11.05,\n                \"humidity\": 0.28,\n                \"icon\": \"cloudy\",\n                \"precipIntensity\": 0,\n                \"precipProbability\": 0,\n                \"pressure\": 1027.9,\n                \"summary\": \"Overcast\",\n                \"temperature\": 42.16,\n                \"time\": -216802800,\n                \"uvIndex\": 3,\n                \"visibility\": 9.93,\n                \"windBearing\": 203,\n                \"windSpeed\": 8.1\n            },\n            {\n                \"apparentTemperature\": 42.6,\n                \"cloudCover\": 0.14,\n                \"dewPoint\": 10.2,\n                \"humidity\": 0.22,\n                \"icon\": \"clear-day\",\n                \"precipIntensity\": 0,\n                \"precipProbability\": 0,\n                \"pressure\": 1026.5,\n                \"summary\": \"Clear\",\n                \"temperature\": 46.98,\n                \"time\": -216799200,\n                \"uvIndex\": 4,\n                \"visibility\": 9.93,\n                \"windBearing\": 248,\n                \"windSpeed\": 9.18\n            },\n            {\n                \"apparentTemperature\": 45.9,\n                \"cloudCover\": 0.13,\n                \"dewPoint\": 10.22,\n                \"humidity\": 0.22,\n                \"icon\": \"clear-day\",\n                \"precipIntensity\": 0,\n                \"precipProbability\": 0,\n                \"pressure\": 1025.8,\n                \"summary\": \"Clear\",\n                \"temperature\": 47.01,\n                \"time\": -216795600,\n                \"uvIndex\": 4,\n                \"visibility\": 9.93,\n                \"windBearing\": 204,\n                \"windSpeed\": 3.41\n            },\n            {\n                \"apparentTemperature\": 50.01,\n                \"cloudCover\": 0.13,\n                \"dewPoint\": 12.1,\n                \"humidity\": 0.22,\n                \"icon\": \"clear-day\",\n                \"precipIntensity\": 0,\n                \"precipProbability\": 0,\n                \"pressure\": 1024.4,\n                \"summary\": \"Clear\",\n                \"temperature\": 50.01,\n                \"time\": -216792000,\n                \"uvIndex\": 3,\n                \"visibility\": 9.93,\n                \"windBearing\": 224,\n                \"windSpeed\": 10.29\n            },\n            {\n                \"apparentTemperature\": 47.13,\n                \"cloudCover\": 0.01,\n                \"dewPoint\": 12.93,\n                \"humidity\": 0.23,\n                \"icon\": \"clear-day\",\n                \"precipIntensity\": 0,\n                \"precipProbability\": 0,\n                \"pressure\": 1024.1,\n                \"summary\": \"Clear\",\n                \"temperature\": 48.97,\n                \"time\": -216788400,\n                \"uvIndex\": 1,\n                \"visibility\": 9.93,\n                \"windBearing\": 202,\n                \"windSpeed\": 4.81\n            },\n            {\n                \"apparentTemperature\": 45.46,\n                \"cloudCover\": 0.13,\n                \"dewPoint\": 14.01,\n                \"humidity\": 0.24,\n                \"icon\": \"clear-day\",\n                \"precipIntensity\": 0,\n                \"precipProbability\": 0,\n                \"pressure\": 1023.7,\n                \"summary\": \"Clear\",\n                \"temperature\": 48.95,\n                \"time\": -216784800,\n                \"uvIndex\": 0,\n                \"visibility\": 9.93,\n                \"windBearing\": 203,\n                \"windSpeed\": 8.07\n            },\n            {\n                \"apparentTemperature\": 42.16,\n                \"cloudCover\": 0.74,\n                \"dewPoint\": 14.03,\n                \"humidity\": 0.26,\n                \"icon\": \"partly-cloudy-day\",\n                \"precipIntensity\": 0,\n                \"precipProbability\": 0,\n                \"pressure\": 1023.7,\n                \"summary\": \"Mostly Cloudy\",\n                \"temperature\": 46.94,\n                \"time\": -216781200,\n                \"uvIndex\": 0,\n                \"visibility\": 9.93,\n                \"windBearing\": 203,\n                \"windSpeed\": 10.22\n            },\n            {\n                \"apparentTemperature\": 34.18,\n                \"cloudCover\": 0.49,\n                \"dewPoint\": 15.97,\n                \"humidity\": 0.39,\n                \"icon\": \"partly-cloudy-night\",\n                \"precipIntensity\": 0,\n                \"precipProbability\": 0,\n                \"pressure\": 1024.1,\n                \"summary\": \"Partly Cloudy\",\n                \"temperature\": 39.14,\n                \"time\": -216777600,\n                \"uvIndex\": 0,\n                \"visibility\": 9.93,\n                \"windBearing\": 180,\n                \"windSpeed\": 6.88\n            },\n            {\n                \"apparentTemperature\": 32.17,\n                \"cloudCover\": 0.49,\n                \"dewPoint\": 15.97,\n                \"humidity\": 0.4,\n                \"icon\": \"partly-cloudy-night\",\n                \"precipIntensity\": 0,\n                \"precipProbability\": 0,\n                \"pressure\": 1024.1,\n                \"summary\": \"Partly Cloudy\",\n                \"temperature\": 38,\n                \"time\": -216774000,\n                \"uvIndex\": 0,\n                \"visibility\": 9.93,\n                \"windBearing\": 158,\n                \"windSpeed\": 7.97\n            },\n            {\n                \"apparentTemperature\": 28.75,\n                \"cloudCover\": 0.37,\n                \"dewPoint\": 17.04,\n                \"humidity\": 0.47,\n                \"icon\": \"partly-cloudy-night\",\n                \"precipIntensity\": 0,\n                \"precipProbability\": 0,\n                \"pressure\": 1024.1,\n                \"summary\": \"Partly Cloudy\",\n                \"temperature\": 35.18,\n                \"time\": -216770400,\n                \"uvIndex\": 0,\n                \"visibility\": 9.93,\n                \"windBearing\": 180,\n                \"windSpeed\": 7.94\n            },\n            {\n                \"apparentTemperature\": 30.25,\n                \"cloudCover\": 0.73,\n                \"dewPoint\": 15.95,\n                \"humidity\": 0.45,\n                \"icon\": \"partly-cloudy-night\",\n                \"precipIntensity\": 0,\n                \"precipProbability\": 0,\n                \"pressure\": 1024.3,\n                \"summary\": \"Mostly Cloudy\",\n                \"temperature\": 35.18,\n                \"time\": -216766800,\n                \"uvIndex\": 0,\n                \"visibility\": 9.93,\n                \"windBearing\": 158,\n                \"windSpeed\": 5.69\n            },\n            {\n                \"apparentTemperature\": 28.2,\n                \"cloudCover\": 0.73,\n                \"dewPoint\": 17.04,\n                \"humidity\": 0.49,\n                \"icon\": \"partly-cloudy-night\",\n                \"precipIntensity\": 0,\n                \"precipProbability\": 0,\n                \"pressure\": 1024.1,\n                \"summary\": \"Mostly Cloudy\",\n                \"temperature\": 34.12,\n                \"time\": -216763200,\n                \"uvIndex\": 0,\n                \"visibility\": 9.93,\n                \"windBearing\": 135,\n                \"windSpeed\": 6.78\n            }\n        ],\n        \"icon\": \"partly-cloudy-day\",\n        \"summary\": \"Partly cloudy throughout the day.\"\n    },\n    \"latitude\": 38.178164,\n    \"longitude\": -85.793976,\n    \"offset\": -5,\n    \"timezone\": \"America/Kentucky/Louisville\"\n}\n"
     ]
    }
   ],
   "source": [
    "print(type(content))\n",
    "print(content)"
   ]
  },
  {
   "cell_type": "code",
   "execution_count": 33,
   "metadata": {},
   "outputs": [
    {
     "output_type": "stream",
     "name": "stdout",
     "text": [
      "50.57\n"
     ]
    }
   ],
   "source": [
    "#print(content)\n",
    "print(JSONContent[\"daily\"][\"data\"][0][\"temperatureHigh\"])"
   ]
  },
  {
   "cell_type": "code",
   "execution_count": null,
   "metadata": {},
   "outputs": [],
   "source": [
    "#from pandas.io.json import json_normalize\n",
    "#json_normalize(df[\"daily\"])\n",
    "\n",
    "content[\"daily\"]"
   ]
  },
  {
   "cell_type": "code",
   "execution_count": null,
   "metadata": {},
   "outputs": [],
   "source": []
  }
 ],
 "metadata": {
  "kernelspec": {
   "name": "python3",
   "display_name": "Python 3.7.3 64-bit",
   "metadata": {
    "interpreter": {
     "hash": "31f2aee4e71d21fbe5cf8b01ff0e069b9275f58929596ceb00d14d90e3e16cd6"
    }
   }
  },
  "language_info": {
   "codemirror_mode": {
    "name": "ipython",
    "version": 3
   },
   "file_extension": ".py",
   "mimetype": "text/x-python",
   "name": "python",
   "nbconvert_exporter": "python",
   "pygments_lexer": "ipython3",
   "version": "3.7.3"
  }
 },
 "nbformat": 4,
 "nbformat_minor": 2
}