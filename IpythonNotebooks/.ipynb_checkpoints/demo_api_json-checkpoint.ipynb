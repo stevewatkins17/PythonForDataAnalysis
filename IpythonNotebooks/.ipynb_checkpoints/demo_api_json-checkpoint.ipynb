{
 "cells": [
  {
   "cell_type": "code",
   "execution_count": null,
   "metadata": {},
   "outputs": [],
   "source": [
    "import numpy as np\n",
    "import pandas as pd\n",
    "import requests\n",
    "import json\n",
    "#from pandas.io.json import json_normalize"
   ]
  },
  {
   "cell_type": "code",
   "execution_count": null,
   "metadata": {},
   "outputs": [],
   "source": [
    "API_KEY = \"3913f39f333c81570744b620ba68c3e6\"\n",
    "latitude = \"38.178164\"\n",
    "longitude = \"-85.793976\"\n",
    "YYYYMMDD = \"1978-02-17\"\n",
    "TimeOffset = \"11:00:00-0400\"    \n",
    "url = f\"https://api.darksky.net/forecast/{API_KEY}/{latitude},{longitude},{YYYYMMDD}T{TimeOffset}?exclude=currently,flags\"\n",
    "\n",
    "#url = \"https://api.darksky.net/forecast/3913f39f333c81570744b620ba68c3e6/38.178164,-85.793976,1978-02-17T11:00:00-0400?exclude=currently,flags\"\n",
    "JSONContent = requests.get(url).json()\n",
    "content = json.dumps(JSONContent, indent = 4, sort_keys=True)\n",
    "#json_normalize(content)\n",
    "print(content)"
   ]
  },
  {
   "cell_type": "code",
   "execution_count": null,
   "metadata": {},
   "outputs": [],
   "source": [
    "df = pd.read_json(content)"
   ]
  },
  {
   "cell_type": "code",
   "execution_count": null,
   "metadata": {},
   "outputs": [],
   "source": [
    "#from pandas.io.json import json_normalize\n",
    "#json_normalize(df[\"daily\"])\n",
    "\n",
    "df[\"daily\"]"
   ]
  }
 ],
 "metadata": {
  "kernelspec": {
   "display_name": "Python 3",
   "language": "python",
   "name": "python3"
  },
  "language_info": {
   "codemirror_mode": {
    "name": "ipython",
    "version": 3
   },
   "file_extension": ".py",
   "mimetype": "text/x-python",
   "name": "python",
   "nbconvert_exporter": "python",
   "pygments_lexer": "ipython3",
   "version": "3.7.4"
  }
 },
 "nbformat": 4,
 "nbformat_minor": 2
}
