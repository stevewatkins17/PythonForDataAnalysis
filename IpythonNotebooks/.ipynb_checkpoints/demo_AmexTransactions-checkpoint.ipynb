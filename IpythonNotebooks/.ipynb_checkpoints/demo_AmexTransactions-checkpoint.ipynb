{
 "cells": [
  {
   "cell_type": "code",
   "execution_count": null,
   "metadata": {},
   "outputs": [],
   "source": [
    "import pandas as pd\n",
    "import os\n",
    "os.getcwd()"
   ]
  },
  {
   "cell_type": "code",
   "execution_count": null,
   "metadata": {},
   "outputs": [],
   "source": [
    "# HTTP - read CSV into dataframe\n",
    "df2 = pd.read_csv(\"https://raw.githubusercontent.com/stevewatkins17/PythonForDataAnalysis/master/demo_AmexTransactions.csv\", header=None)\n",
    "df4 = pd.read_csv(\"http://46.101.230.157/dilan/pandas_tutorial_read.csv\", delimiter=\";\", names = ['my_datetime', 'event', 'country', 'user_id', 'source', 'topic'])\n"
   ]
  },
  {
   "cell_type": "code",
   "execution_count": null,
   "metadata": {},
   "outputs": [],
   "source": [
    "# MACBOOK absolute path - read CSV into dataframe\n",
    "\n",
    "df1 = pd.read_csv(\"/Users/stevewatkins/Downloads/CodeLouisville/sw/PythonForDataAnalysis/IpythonNotebooks/Data/demo_AmexTransactions.csv\", header=None)\n",
    "\n",
    "#may need to unzip csv first \n",
    "df3 = pd.read_csv(\"/Users/stevewatkins/Downloads/CodeLouisville/sw/PythonForDataAnalysis/IpythonNotebooks/Data/trips.csv\", header=\"infer\")"
   ]
  },
  {
   "cell_type": "code",
   "execution_count": null,
   "metadata": {},
   "outputs": [],
   "source": [
    "# WINDOWS absolute path - read CSV into dataframe\n",
    "#df1 = pd.read_csv(\"C:/Users/stevewatkins/Downloads/temp2/PythonForDataAnalysis/demo_AmexTransactions.csv\", header=None)\n",
    "#df3 = pd.read_csv(\"C:/Users/stevewatkins/Downloads/temp2/PythonForDataAnalysis/trips.csv\", header=\"infer\")"
   ]
  },
  {
   "cell_type": "code",
   "execution_count": null,
   "metadata": {},
   "outputs": [],
   "source": [
    "# WINDOWS or MAC - relative path - read CSV into dataframe\n",
    "df1 = pd.read_csv(\"Data/demo_AmexTransactions.csv\", header=None)\n",
    "df3 = pd.read_csv(\"Data/trips.csv\", header=\"infer\")"
   ]
  },
  {
   "cell_type": "code",
   "execution_count": null,
   "metadata": {},
   "outputs": [],
   "source": [
    "## view results\n",
    "\n",
    "df3.head(10)\n",
    "#df4.tail(2)\n",
    "#df4.sample(5)\n",
    "#df4[[\"my_datetime\", \"source\"]]\n",
    "\n",
    "##series\n",
    "#df4['user_id']\n",
    "\n",
    "#df4[df4.source == 'Reddit']\n",
    "#df4.sample(100)\n",
    "\n",
    "#df4[['source']].count()\n",
    "#df4[['source']].sum()\n",
    "#df4[['user_id']].sum()\n",
    "\n",
    "#df1\n",
    "df3\n",
    "\n",
    "\n"
   ]
  }
 ],
 "metadata": {
  "kernelspec": {
   "display_name": "Python 3",
   "language": "python",
   "name": "python3"
  },
  "language_info": {
   "codemirror_mode": {
    "name": "ipython",
    "version": 3
   },
   "file_extension": ".py",
   "mimetype": "text/x-python",
   "name": "python",
   "nbconvert_exporter": "python",
   "pygments_lexer": "ipython3",
   "version": "3.7.4"
  }
 },
 "nbformat": 4,
 "nbformat_minor": 2
}
