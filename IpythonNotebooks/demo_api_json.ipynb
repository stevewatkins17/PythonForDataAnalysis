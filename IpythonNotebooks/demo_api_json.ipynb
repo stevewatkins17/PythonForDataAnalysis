{
 "cells": [
  {
   "cell_type": "code",
   "execution_count": null,
   "metadata": {},
   "outputs": [],
   "source": [
    "import numpy as np\n",
    "import pandas as pd\n",
    "import requests\n",
    "import json\n",
    "import os\n",
    "from dotenv import load_dotenv \n",
    "load_dotenv()\n",
    "#from pandas.io.json import json_normalize\n",
    "# docker exec -it cl_py sh\n",
    "#print(os.getenv(\"DARKSKY_API_KEY\"))"
   ]
  },
  {
   "cell_type": "code",
   "execution_count": null,
   "metadata": {},
   "outputs": [],
   "source": [
    "API_KEY = os.getenv(\"DARKSKY_API_KEY\")\n",
    "latitude = \"38.178164\"\n",
    "longitude = \"-85.793976\"\n",
    "YYYYMMDD = \"2002-02-20\"\n",
    "TimeOffset = \"11:00:00-0400\"    \n",
    "url = f\"https://api.darksky.net/forecast/{API_KEY}/{latitude},{longitude},{YYYYMMDD}T{TimeOffset}?exclude=currently,flags\"\n",
    "\n",
    "JSONContent = requests.get(url).json()\n",
    "\n",
    "# easier to read as string\n",
    "content = json.dumps(JSONContent, indent = 4)\n",
    "\n",
    "#json_normalize(content)\n"
   ]
  },
  {
   "cell_type": "code",
   "execution_count": null,
   "metadata": {},
   "outputs": [],
   "source": [
    "print(type(JSONContent))\n",
    "print(type(content))\n",
    "#print(JSONContent)\n",
    "print(content)"
   ]
  },
  {
   "cell_type": "code",
   "execution_count": null,
   "metadata": {},
   "outputs": [],
   "source": [
    "#print(content)\n",
    "print(JSONContent[\"daily\"][\"data\"][0][\"temperatureHigh\"])"
   ]
  }
 ],
 "metadata": {
  "kernelspec": {
   "display_name": "Python 3.9.12 ('base')",
   "language": "python",
   "name": "python3"
  },
  "language_info": {
   "codemirror_mode": {
    "name": "ipython",
    "version": 3
   },
   "file_extension": ".py",
   "mimetype": "text/x-python",
   "name": "python",
   "nbconvert_exporter": "python",
   "pygments_lexer": "ipython3",
   "version": "3.9.12"
  },
  "vscode": {
   "interpreter": {
    "hash": "d4d1e4263499bec80672ea0156c357c1ee493ec2b1c70f0acce89fc37c4a6abe"
   }
  }
 },
 "nbformat": 4,
 "nbformat_minor": 2
}
