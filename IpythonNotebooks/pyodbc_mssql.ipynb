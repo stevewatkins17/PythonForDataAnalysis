{
 "cells": [
  {
   "cell_type": "code",
   "execution_count": null,
   "metadata": {},
   "outputs": [],
   "source": [
    "import os\n",
    "import pyodbc\n",
    "import sqlite3\n",
    "import pandas as pd\n",
    "import sys\n",
    "\"\"\" currently relative import not working even with fix below\"\"\"\n",
    "module_path = os.path.abspath(os.path.join('..'))\n",
    "if module_path not in sys.path:\n",
    "    sys.path.append(module_path)\n",
    "\n",
    "from .. data import myconfig as mc\n",
    "\n",
    "# edit \"myconfig.py\" to alter DB & Instance conn. or change query\n",
    "\n",
    "def run_query(query):\n",
    "    return pd.read_sql_query(query,cn)\n",
    "\n",
    "cn = pyodbc.connect(\n",
    "    r'DRIVER={ODBC Driver 17 for SQL Server};'\n",
    "    fr'SERVER={mc.SourceInstance};'\n",
    "    fr'DATABASE={mc.SourceDB};'\n",
    "    r'UID=sa;'\n",
    "    fr'PWD={mc.PWD};'\n",
    "    r'APP=Python app;'\n",
    "    )\n",
    "os.getcwd()"
   ]
  },
  {
   "cell_type": "code",
   "execution_count": null,
   "metadata": {},
   "outputs": [],
   "source": [
    "df1 = run_query(mc.Query_pt)\n",
    "\n",
    "df1"
   ]
  }
 ],
 "metadata": {
  "kernelspec": {
   "display_name": "Python 3.9.12 ('base')",
   "language": "python",
   "name": "python3"
  },
  "language_info": {
   "codemirror_mode": {
    "name": "ipython",
    "version": 3
   },
   "file_extension": ".py",
   "mimetype": "text/x-python",
   "name": "python",
   "nbconvert_exporter": "python",
   "pygments_lexer": "ipython3",
   "version": "3.9.12"
  },
  "vscode": {
   "interpreter": {
    "hash": "d4d1e4263499bec80672ea0156c357c1ee493ec2b1c70f0acce89fc37c4a6abe"
   }
  }
 },
 "nbformat": 4,
 "nbformat_minor": 2
}
