{
 "cells": [
  {
   "cell_type": "code",
   "execution_count": null,
   "metadata": {},
   "outputs": [],
   "source": [
    "# this demo requires existence of table \"stage_expenses_cleaned\" created in \"demo_SQL_DataCleanup\"\n",
    "import pandas as pd\n",
    "import sqlite3\n",
    "import os\n",
    "import matplotlib.pyplot as plt\n",
    "\n",
    "# create the sqlite DB\n",
    "db = sqlite3.connect(\":memory:\")\n",
    "\n",
    "# read CSV into dataframe\n",
    "df1 = pd.read_csv(\"Data/stage_expenses_cleaned.csv\", header=\"infer\")\n",
    "\n",
    "# convert the pandas dataframe to a sqlite table\n",
    "df1.to_sql(\"stage_expenses_cleaned\", db, if_exists=\"replace\")\n",
    "\n",
    "def run_query(query):\n",
    "    return pd.read_sql_query(query,db)\n",
    "\n",
    "os.getcwd()"
   ]
  },
  {
   "cell_type": "code",
   "execution_count": null,
   "metadata": {},
   "outputs": [],
   "source": [
    "# this handy pandas method displays a dataframe's aggregate metadata\n",
    "# which also conveniently shows you basic aggregations (count, mean, min ... )\n",
    "df1.describe()"
   ]
  },
  {
   "cell_type": "code",
   "execution_count": null,
   "metadata": {},
   "outputs": [],
   "source": [
    "# query to show us what tables exist in DB\n",
    "query = \"\"\"\n",
    "SELECT * \n",
    "FROM sqlite_master\n",
    "ORDER BY name;\n",
    "\"\"\"\n",
    "run_query(query)"
   ]
  },
  {
   "cell_type": "code",
   "execution_count": null,
   "metadata": {},
   "outputs": [],
   "source": [
    "# get information about my staging table \n",
    "query_table_help = \"\"\"\n",
    "select * from PRAGMA_TABLE_INFO('stage_expenses_cleaned');\n",
    "\"\"\"\n",
    "run_query(query_table_help)"
   ]
  },
  {
   "cell_type": "code",
   "execution_count": null,
   "metadata": {},
   "outputs": [],
   "source": [
    "query = \"\"\"\n",
    "SELECT * \n",
    "FROM stage_expenses_cleaned;\n",
    "\"\"\"\n",
    "run_query(query)"
   ]
  },
  {
   "cell_type": "code",
   "execution_count": null,
   "metadata": {},
   "outputs": [],
   "source": [
    "# create key metrics by US state\n",
    "query_state_KM = \"\"\"\n",
    "select \n",
    " Vendor_State\n",
    ",sum(Vendor_Amount) as \"Sum Amount\"\n",
    ",avg(Vendor_Amount) as \"Avg Amount\"\n",
    ",count(*) as \"Trans Count\"\n",
    "from stage_expenses_cleaned\n",
    "group by Vendor_State\n",
    "\n",
    "union all\n",
    "\n",
    "select \n",
    " '(Total)'\n",
    ",sum(Vendor_Amount) as \"Sum Amount\"\n",
    ",avg(Vendor_Amount) as \"Avg Amount\"\n",
    ",count(*) as \"Trans Count\"\n",
    "from stage_expenses_cleaned\n",
    "\n",
    "order by \"Sum Amount\" desc;\n",
    "\"\"\"\n",
    "\n",
    "run_query(query_state_KM)\n"
   ]
  },
  {
   "cell_type": "code",
   "execution_count": null,
   "metadata": {},
   "outputs": [],
   "source": [
    "# create key metrics by Category\n",
    "query_category_KM = \"\"\"\n",
    "select \n",
    " Vendor_Category\n",
    ",sum(Vendor_Amount) as \"Sum Amount\"\n",
    ",avg(Vendor_Amount) as \"Avg Amount\"\n",
    ",count(*) as \"Trans Count\"\n",
    "from stage_expenses_cleaned\n",
    "group by Vendor_Category\n",
    "\n",
    "union all\n",
    "\n",
    "select \n",
    " '(Total)'\n",
    ",sum(Vendor_Amount) \n",
    ",avg(Vendor_Amount) \n",
    ",count(*) \n",
    "from stage_expenses_cleaned\n",
    "\n",
    "order by \"Sum Amount\" desc;\n",
    "\"\"\"\n",
    "\n",
    "run_query(query_category_KM)"
   ]
  },
  {
   "cell_type": "code",
   "execution_count": null,
   "metadata": {},
   "outputs": [],
   "source": [
    "# create state count for map\n",
    "query_st_map = \"\"\"\n",
    "select \n",
    " Vendor_State as \"VendorState\"\n",
    ",count(*) as \"TransCount\"\n",
    "from stage_expenses_cleaned\n",
    "group by Vendor_State\n",
    "order by \"VendorState\" asc;\n",
    "\"\"\"\n",
    "\n",
    "df2 = run_query(query_st_map)\n",
    "\n",
    "# we can also re-sort the dataframe\n",
    "df2 = df2.sort_values(\"TransCount\", ascending = False).reset_index(drop=True)\n",
    "\n",
    "\n",
    "df2"
   ]
  },
  {
   "cell_type": "code",
   "execution_count": null,
   "metadata": {},
   "outputs": [],
   "source": [
    "## Plotting by Shane -- \n",
    "## requires manual install of plotly library\n",
    "## \"conda install -c plotly plotly\"\n",
    "## https://anaconda.org/plotly/plotly\n",
    "\n",
    "#from plotly.express import d3_plot\n",
    "#df.rename(columns={'Vendor_State': 'Vendor State'}, inplace=True)\n",
    "#d3_bar(df, x='Vendor State', y='Trans Count', color='Vendor State', title='Stage Expenses Cleaned')"
   ]
  },
  {
   "cell_type": "code",
   "execution_count": null,
   "metadata": {},
   "outputs": [],
   "source": [
    "# we add the %matplotlib inline magic command to see our plot inside the jupyter notebook. \n",
    "# If you build the plot in a .py file, then remove the %matplotlib inline command as it will raise an error\n",
    "%matplotlib inline\n",
    "\n",
    "my_plot = df2.plot(x=\"VendorState\", y=\"TransCount\" ,kind=\"bar\",legend=None,title=\"Transaction Count by State\" ,color = \"green\")\n",
    "my_plot.set_xlabel(\"States\")\n",
    "my_plot.set_ylabel(\"Count\")\n",
    "\n",
    "plt.show(my_plot)\n"
   ]
  }
 ],
 "metadata": {
  "kernelspec": {
   "display_name": "Python 3",
   "language": "python",
   "name": "python3"
  },
  "language_info": {
   "codemirror_mode": {
    "name": "ipython",
    "version": 3
   },
   "file_extension": ".py",
   "mimetype": "text/x-python",
   "name": "python",
   "nbconvert_exporter": "python",
   "pygments_lexer": "ipython3",
   "version": "3.7.4"
  }
 },
 "nbformat": 4,
 "nbformat_minor": 2
}
