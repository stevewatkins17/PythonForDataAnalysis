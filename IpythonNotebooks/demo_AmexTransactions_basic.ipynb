{
 "cells": [
  {
   "cell_type": "code",
   "execution_count": null,
   "metadata": {},
   "outputs": [],
   "source": [
    "import pandas as pd\n",
    "import os\n",
    "\n",
    "os.getcwd()"
   ]
  },
  {
   "cell_type": "code",
   "execution_count": null,
   "metadata": {},
   "outputs": [],
   "source": [
    "# WINDOWS or MAC - relative path - read CSV into dataframe\n",
    "df1 = pd.read_csv(\"../data/demo_AmexTransactions.csv\", header=None)"
   ]
  },
  {
   "cell_type": "code",
   "execution_count": null,
   "metadata": {},
   "outputs": [],
   "source": [
    "# HTTP - read CSV into dataframe\n",
    "df2 = pd.read_csv(\"https://raw.githubusercontent.com/stevewatkins17/PythonForDataAnalysis/Jan2022/Data/demo_AmexTransactions.csv\", header=None)\n",
    "df3 = pd.read_csv(\"https://raw.githubusercontent.com/stevewatkins17/PythonForDataAnalysis/Jan2022/Data/demo_AmexTransactions.csv\", header=\"infer\")\n",
    "df4 = pd.read_csv(\"http://46.101.230.157/dilan/pandas_tutorial_read.csv\", delimiter=\";\", names = ['my_datetime', 'event', 'country', 'user_id', 'source', 'topic'])"
   ]
  },
  {
   "cell_type": "markdown",
   "metadata": {},
   "source": [
    "view results - uncomment as needed"
   ]
  },
  {
   "cell_type": "code",
   "execution_count": null,
   "metadata": {},
   "outputs": [],
   "source": [
    "#df1.head(10)\n",
    "#df1.tail(2)\n",
    "#df1.sample(5)\n",
    "#df4[[\"my_datetime\", \"source\"]]\n",
    "\n",
    "##series\n",
    "#df4['user_id']\n",
    "\n",
    "#df4[df4.source == 'Reddit']\n",
    "#df4.sample(100)\n",
    "\n",
    "#df4[['source']].count()\n",
    "#df4[['source']].sum()\n",
    "#df4[['user_id']].sum()\n",
    "\n",
    "df4"
   ]
  }
 ],
 "metadata": {
  "kernelspec": {
   "display_name": "Python 3.9.12 ('base')",
   "language": "python",
   "name": "python3"
  },
  "language_info": {
   "codemirror_mode": {
    "name": "ipython",
    "version": 3
   },
   "file_extension": ".py",
   "mimetype": "text/x-python",
   "name": "python",
   "nbconvert_exporter": "python",
   "pygments_lexer": "ipython3",
   "version": "3.9.12"
  },
  "vscode": {
   "interpreter": {
    "hash": "d4d1e4263499bec80672ea0156c357c1ee493ec2b1c70f0acce89fc37c4a6abe"
   }
  }
 },
 "nbformat": 4,
 "nbformat_minor": 2
}
