{
 "cells": [
  {
   "cell_type": "code",
   "execution_count": 48,
   "metadata": {},
   "outputs": [
    {
     "name": "stdout",
     "output_type": "stream",
     "text": [
      "create function dbo.myfunction \n",
      "\twith   \n",
      "\tschemabinding\n",
      "as\n",
      "begin\n",
      "\tselect 1 from dbo.table;\n",
      "end\n",
      "\n",
      "None\n",
      "None\n"
     ]
    }
   ],
   "source": [
    "import re\n",
    "\n",
    "target_complex = \"create function dbo.myfunction \\n\\r\\twith   \\n\\r\\tschemabinding\\n\\ras\\n\\rbegin\\n\\r\\tselect 1 from dbo.table;\\n\\rend\\n\\r\"\n",
    "target_simple = \"create function dbo.myfunction \\n\\twith  schemabinding\\nas\\nbegin\\n\\tselect 1 from dbo.table;\\nend\\n\"\n",
    "\n",
    "find_this = \"with.schemabinding\"\n",
    "replace_with = \"/*__with schemabinding__*/\"\n",
    "\n",
    "#print(target_simple)\n",
    "print(target_complex)\n",
    "\n",
    "result = re.search(find_this, target_simple)\n",
    "result2 = re.search(find_this, target_complex)\n",
    "\n",
    "print(result)\n",
    "print(result2)\n",
    "\n"
   ]
  }
 ],
 "metadata": {
  "interpreter": {
   "hash": "d4d1e4263499bec80672ea0156c357c1ee493ec2b1c70f0acce89fc37c4a6abe"
  },
  "kernelspec": {
   "display_name": "Python 3.9.7 ('base')",
   "language": "python",
   "name": "python3"
  },
  "language_info": {
   "codemirror_mode": {
    "name": "ipython",
    "version": 3
   },
   "file_extension": ".py",
   "mimetype": "text/x-python",
   "name": "python",
   "nbconvert_exporter": "python",
   "pygments_lexer": "ipython3",
   "version": "3.9.7"
  },
  "orig_nbformat": 4
 },
 "nbformat": 4,
 "nbformat_minor": 2
}
