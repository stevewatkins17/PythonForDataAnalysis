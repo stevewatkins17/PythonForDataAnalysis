{
 "cells": [
  {
   "cell_type": "code",
   "execution_count": null,
   "metadata": {},
   "outputs": [],
   "source": [
    "import pandas as pd\n",
    "import zipfile as z\n",
    "import pathlib\n",
    "import os\n",
    "\n",
    "os.getcwd()"
   ]
  },
  {
   "cell_type": "code",
   "execution_count": null,
   "metadata": {},
   "outputs": [],
   "source": [
    "# HTTP - read CSV into dataframe\n",
    "df2 = pd.read_csv(\"https://raw.githubusercontent.com/stevewatkins17/PythonForDataAnalysis/Jan2020/IpythonNotebooks/Data/demo_AmexTransactions.csv\", header=None)\n",
    "df4 = pd.read_csv(\"http://46.101.230.157/dilan/pandas_tutorial_read.csv\", delimiter=\";\", names = ['my_datetime', 'event', 'country', 'user_id', 'source', 'topic'])\n",
    "\n",
    "df2"
   ]
  },
  {
   "cell_type": "code",
   "execution_count": null,
   "metadata": {},
   "outputs": [],
   "source": [
    "# MACBOOK absolute path - read CSV into dataframe\n",
    "\n",
    "#df1 = pd.read_csv(\"/Users/stevewatkins/Downloads/CodeLouisville/sw/PythonForDataAnalysis/IpythonNotebooks/Data/demo_AmexTransactions.csv\", header=None)\n",
    "\n",
    "#may need to unzip csv first \n",
    "#df3 = pd.read_csv(\"/Users/stevewatkins/Downloads/CodeLouisville/sw/PythonForDataAnalysis/IpythonNotebooks/Data/trips.csv\", header=\"infer\")"
   ]
  },
  {
   "cell_type": "code",
   "execution_count": null,
   "metadata": {},
   "outputs": [],
   "source": [
    "# WINDOWS absolute path - read CSV into dataframe\n",
    "#df1 = pd.read_csv(\"C:/Users/stevewatkins/Downloads/temp2/PythonForDataAnalysis/demo_AmexTransactions.csv\", header=None)\n",
    "#df3 = pd.read_csv(\"C:/Users/stevewatkins/Downloads/temp2/PythonForDataAnalysis/trips.csv\", header=\"infer\")"
   ]
  },
  {
   "cell_type": "code",
   "execution_count": null,
   "metadata": {},
   "outputs": [],
   "source": [
    "zf = z.ZipFile(\"Data/trips.csv.zip\",\"r\")\n",
    "zf.extractall(\"Data\")\n",
    "zf.close()\n",
    "\n",
    "## Context Manager version of above \n",
    "#with z.ZipFile(\"Data/trips.csv.zip\",\"r\") as zf:\n",
    "#    zf.extractall(\"Data\")"
   ]
  },
  {
   "cell_type": "code",
   "execution_count": null,
   "metadata": {},
   "outputs": [],
   "source": [
    "# WINDOWS or MAC - relative path - read CSV into dataframe\n",
    "df1 = pd.read_csv(\"Data/demo_AmexTransactions.csv\", header=None)\n",
    "df3 = pd.read_csv(\"Data/trips.csv\", header=\"infer\")"
   ]
  },
  {
   "cell_type": "code",
   "execution_count": null,
   "metadata": {},
   "outputs": [],
   "source": [
    "## view results\n",
    "\n",
    "#df1.head(10)\n",
    "#df1.tail(2)\n",
    "df3.sample(5)\n",
    "#df4[[\"my_datetime\", \"source\"]]\n",
    "\n",
    "##series\n",
    "#df4['user_id']\n",
    "\n",
    "#df4[df4.source == 'Reddit']\n",
    "#df4.sample(100)\n",
    "\n",
    "#df4[['source']].count()\n",
    "#df4[['source']].sum()\n",
    "#df4[['user_id']].sum()\n",
    "\n",
    "#df1\n",
    "#df3\n"
   ]
  },
  {
   "cell_type": "code",
   "execution_count": null,
   "metadata": {},
   "outputs": [],
   "source": [
    "# using os, we delete the big csv, if exists\n",
    "target_file = \"Data/trips.csv\"\n",
    "  \n",
    "if os.path.isfile(target_file): \n",
    "    os.remove(target_file) \n",
    "    print(\"File deleted\") \n",
    "else: \n",
    "    print(\"File not found\")\n",
    "\n"
   ]
  },
  {
   "cell_type": "code",
   "execution_count": null,
   "metadata": {},
   "outputs": [],
   "source": [
    "# using pathlib, we delete the dir created by extracting from the zipfile\n",
    "\n",
    "target_dir = pathlib.Path.cwd() / \"Data\" / \"__MACOSX\"\n",
    "\n",
    "try:\n",
    "    target_dir.rmdir()\n",
    "except OSError as e:\n",
    "    print(f\"Error: {target_dir} : {e.strerror}\")\n",
    "    \n",
    "## another method\n",
    "#pathlib.Path.rmdir(target_dir)\n",
    "\n",
    "## another delete method for when the directory is not empty\n",
    "#import shutil\n",
    "#shutil.rmtree(target_dir)"
   ]
  }
 ],
 "metadata": {
  "kernelspec": {
   "display_name": "Python 3",
   "language": "python",
   "name": "python3"
  },
  "language_info": {
   "codemirror_mode": {
    "name": "ipython",
    "version": 3
   },
   "file_extension": ".py",
   "mimetype": "text/x-python",
   "name": "python",
   "nbconvert_exporter": "python",
   "pygments_lexer": "ipython3",
   "version": "3.7.4"
  }
 },
 "nbformat": 4,
 "nbformat_minor": 2
}
