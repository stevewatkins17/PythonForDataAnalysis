{
 "cells": [
  {
   "cell_type": "code",
   "execution_count": null,
   "metadata": {},
   "outputs": [],
   "source": [
    "import pandas as pd\n",
    "import numpy as np\n",
    "\n",
    "# File path\n",
    "file_A = \"../data/week1.csv\"\n",
    "file_B = \"../data/week2.csv\"\n",
    "\n",
    "# Define column names\n",
    "column_names = [\"main\", \"veg\", \"dessert\"]\n",
    "\n",
    "# Read the CSV file with specified parameters\n",
    "dfA = pd.read_csv(file_A, delimiter='\\\\|\\\\|', header=None, names=column_names,  engine='python')\n",
    "dfB = pd.read_csv(file_B, delimiter='\\\\|\\\\|', header=None, names=column_names,  engine='python')\n",
    "\n",
    "# Display the first few rows to verify the import\n",
    "print(dfA.head(4))\n"
   ]
  },
  {
   "cell_type": "markdown",
   "metadata": {},
   "source": [
    "view results - uncomment as needed"
   ]
  },
  {
   "cell_type": "code",
   "execution_count": null,
   "metadata": {},
   "outputs": [],
   "source": [
    "#dessert_counts = df[\"dessert\"].value_counts()\n",
    "# Assuming dessert_counts is your existing Pandas Series\n",
    "week_A = dfA[\"dessert\"].value_counts(dropna=False)\n",
    "week_A.index = week_A.index.fillna('** NONE **')\n",
    "\n",
    "\n",
    "week_B = dfB[\"dessert\"].value_counts(dropna=False)\n",
    "week_B.index = week_B.index.fillna('** NONE **')\n",
    "\n",
    "# Merge the two series\n",
    "desserts_all = pd.DataFrame({'week_A': week_A, 'week_B': week_B}, dtype=pd.Int64Dtype())\n",
    "\n",
    "# Fill NaNs with 0 explicitly\n",
    "desserts_all = desserts_all.fillna(0)\n",
    "\n",
    "# Display the DataFrame\n",
    "#print(week_A)\n",
    "#print(week_B)\n",
    "print(desserts_all)\n"
   ]
  },
  {
   "cell_type": "code",
   "execution_count": null,
   "metadata": {},
   "outputs": [],
   "source": [
    "import plotly.graph_objs as go\n",
    "from plotly.subplots import make_subplots\n",
    "\n",
    "# Assuming desserts_all is your DataFrame with columns \"dessert_counts\" and \"dessert_counts_B\"\n",
    "\n",
    "# Calculate the number of columns to fit figures horizontally\n",
    "num_columns = 5  # You can adjust this number based on your preference\n",
    "\n",
    "# Calculate the number of rows based on the number of keys and columns\n",
    "num_rows = -(-len(desserts_all) // num_columns)  # Ceiling division to ensure enough rows\n",
    "\n",
    "# Create subplots with shared y-axis\n",
    "fig = make_subplots(rows=num_rows, cols=num_columns, shared_yaxes=True)\n",
    "\n",
    "# Loop through each index/key in the DataFrame\n",
    "for i, index_key in enumerate(desserts_all.index):\n",
    "    # Calculate row and column numbers for each subplot\n",
    "    row = i // num_columns + 1\n",
    "    col = i % num_columns + 1\n",
    "    \n",
    "    # Get the data for each index key\n",
    "    data = desserts_all.loc[index_key]\n",
    "    \n",
    "    # Create a bar trace for each key\n",
    "    trace = go.Bar(x=data.index, y=data.values, name=index_key)\n",
    "    \n",
    "    # Add the bar trace to the subplot\n",
    "    fig.add_trace(trace, row=row, col=col)\n",
    "\n",
    "    # Add title to each subplot with the key name\n",
    "    fig.update_xaxes(title_text=index_key, row=row, col=col)\n",
    "\n",
    "# Update layout for better visualization\n",
    "fig.update_layout(height=300 * num_rows, width=200 * num_columns, title='Dessert Counts', showlegend=False)\n",
    "\n",
    "# Show the combined figure with subplots for each key\n",
    "fig.show()\n"
   ]
  }
 ],
 "metadata": {
  "kernelspec": {
   "display_name": "Python 3.9.12 ('base')",
   "language": "python",
   "name": "python3"
  },
  "language_info": {
   "codemirror_mode": {
    "name": "ipython",
    "version": 3
   },
   "file_extension": ".py",
   "mimetype": "text/x-python",
   "name": "python",
   "nbconvert_exporter": "python",
   "pygments_lexer": "ipython3",
   "version": "3.11.5"
  },
  "vscode": {
   "interpreter": {
    "hash": "d4d1e4263499bec80672ea0156c357c1ee493ec2b1c70f0acce89fc37c4a6abe"
   }
  }
 },
 "nbformat": 4,
 "nbformat_minor": 2
}
