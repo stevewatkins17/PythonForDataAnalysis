{
 "cells": [
  {
   "cell_type": "code",
   "execution_count": null,
   "metadata": {},
   "outputs": [],
   "source": [
    "import zipfile as z\n",
    "import pathlib\n",
    "import os\n",
    "import shutil"
   ]
  },
  {
   "cell_type": "code",
   "execution_count": null,
   "metadata": {},
   "outputs": [],
   "source": [
    "def GetDirs(path):\n",
    "    p = pathlib.Path(path)\n",
    "    dirlist = [x for x in p.iterdir() if x.is_dir()]\n",
    "    return dirlist\n",
    "        \n",
    "    \n",
    "def UnzipFile(filePath, destinationDirectory):    \n",
    "    zf = z.ZipFile(f\"{filePath}\",\"r\")\n",
    "    zf.extractall(f\"{destinationDirectory}\")\n",
    "    zf.close()\n",
    "\n",
    "## Context Manager version of above \n",
    "#with z.ZipFile(\"Data/trips.csv.zip\",\"r\") as zf:\n",
    "#    zf.extractall(\"Data\")\n",
    "\n",
    "# using os, we delete the big csv, if exists\n",
    "def DeleteFile(target_file):\n",
    "    if os.path.isfile(target_file):\n",
    "        os.remove(target_file)\n",
    "        return 1\n",
    "    else:\n",
    "        return 0\n",
    "    \n",
    "def DeleteDir(target_dir_to_delete):\n",
    "    try:\n",
    "        shutil.rmtree(target_dir_to_delete)\n",
    "        return 1\n",
    "    except OSError as e:\n",
    "        return 0    \n",
    "    "
   ]
  },
  {
   "cell_type": "code",
   "execution_count": null,
   "metadata": {},
   "outputs": [],
   "source": [
    "# test script\n",
    "dirs_before_unz = GetDirs(\"Data\")\n",
    "#UnzipFile(\"Data/trips.csv.zip\" , \"Data\")\n",
    "UnzipFile(\"Data\\\\trips.csv.zip\" , \"Data\")\n",
    "dirs_after_unz = GetDirs(\"Data\")\n",
    "dir_unz = (list(set(dirs_after_unz) - set(dirs_before_unz)))\n",
    "target_dir_to_delete = dir_unz[0]\n",
    "DeleteFile(\"Data/trips.csv\")\n",
    "DeleteDir(target_dir_to_delete)"
   ]
  }
 ],
 "metadata": {
  "kernelspec": {
   "display_name": "Python 3",
   "language": "python",
   "name": "python3"
  },
  "language_info": {
   "codemirror_mode": {
    "name": "ipython",
    "version": 3
   },
   "file_extension": ".py",
   "mimetype": "text/x-python",
   "name": "python",
   "nbconvert_exporter": "python",
   "pygments_lexer": "ipython3",
   "version": "3.7.4"
  }
 },
 "nbformat": 4,
 "nbformat_minor": 2
}
